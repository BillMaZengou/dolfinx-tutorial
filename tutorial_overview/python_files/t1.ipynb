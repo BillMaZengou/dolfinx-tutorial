{
  "cells": [
    {
      "cell_type": "code",
      "metadata": {},
      "source": [
        "import dolfinx\n",
        "import dolfinx.mesh\n",
        "import dolfinx.plotting\n",
        "import matplotlib.pyplot\n",
        "import numpy\n",
        "import ufl\n",
        "from mpi4py import MPI\n",
        "from petsc4py import PETSc\n",
        "\n",
        "# Create the mesh and define function space\n",
        "mesh = dolfinx.UnitSquareMesh(MPI.COMM_WORLD, 8, 8)\n",
        "V = dolfinx.FunctionSpace(mesh, (\"CG\", 1))\n",
        "\n",
        "# Define boundary condition\n",
        "uD = dolfinx.Function(V)\n",
        "uD.interpolate(lambda x: 1 + x[0]**2 + 2 * x[1]**2)\n",
        "uD.vector.ghostUpdate(addv=PETSc.InsertMode.INSERT, mode=PETSc.ScatterMode.FORWARD)\n",
        "fdim = mesh.topology.dim - 1\n",
        "boundary_facets = dolfinx.mesh.locate_entities_boundary(mesh, fdim,\n",
        "                                                        lambda x: numpy.full(x.shape[1], True, dtype=numpy.bool))\n",
        "bc = dolfinx.DirichletBC(uD, dolfinx.fem.locate_dofs_topological(V, fdim, boundary_facets))\n",
        "\n",
        "# Define variational problem\n",
        "u = ufl.TrialFunction(V)\n",
        "v = ufl.TestFunction(V)\n",
        "f = dolfinx.Constant(mesh, -6)\n",
        "a = ufl.inner(ufl.grad(u), ufl.grad(v)) * ufl.dx\n",
        "L = ufl.inner(f, v) * ufl.dx\n",
        "\n",
        "# Compute solution\n",
        "uh = dolfinx.Function(V)\n",
        "dolfinx.solve(a == L, uh, bc, petsc_options={\"ksp_type\": \"preonly\", \"pc_type\": \"lu\"})\n",
        "uh.vector.ghostUpdate(addv=PETSc.InsertMode.INSERT, mode=PETSc.ScatterMode.FORWARD)\n",
        "\n",
        "# Plot solution\n",
        "dolfinx.plotting.plot(uh)\n",
        "dolfinx.plotting.plot(mesh, color=\"k\")\n",
        "matplotlib.pyplot.savefig(\"uh.png\")\n",
        "\n",
        "# Compute error in L2 norm\n",
        "error_L2 = numpy.sqrt(dolfinx.fem.assemble_scalar(ufl.inner(uh - uD, uh - uD) * ufl.dx))\n",
        "\n",
        "# Compute maximum error at a dof\n",
        "error_max = numpy.max(numpy.abs(uh.vector.array - uD.vector.array))\n",
        "\n",
        "# Print errors\n",
        "print(\"Error_L2 = {0:.2e}\".format(error_L2))\n",
        "print(\"Error_max = {0:.2e}\".format(error_max))\n"
      ],
      "outputs": [],
      "execution_count": null
    }
  ],
  "metadata": {
    "anaconda-cloud": {},
    "kernelspec": {
      "display_name": "Python 3",
      "language": "python",
      "name": "python3"
    },
    "language_info": {
      "codemirror_mode": {
        "name": "ipython",
        "version": 3
      },
      "file_extension": ".py",
      "mimetype": "text/x-python",
      "name": "python",
      "nbconvert_exporter": "python",
      "pygments_lexer": "ipython3",
      "version": "3.6.1"
    }
  },
  "nbformat": 4,
  "nbformat_minor": 4
}