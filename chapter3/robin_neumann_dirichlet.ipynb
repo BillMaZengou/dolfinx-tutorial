{
 "metadata": {
  "language_info": {
   "codemirror_mode": {
    "name": "ipython",
    "version": 3
   },
   "file_extension": ".py",
   "mimetype": "text/x-python",
   "name": "python",
   "nbconvert_exporter": "python",
   "pygments_lexer": "ipython3",
   "version": "3.8.5-final"
  },
  "orig_nbformat": 2,
  "kernelspec": {
   "name": "python3",
   "display_name": "Python 3",
   "language": "python"
  }
 },
 "nbformat": 4,
 "nbformat_minor": 2,
 "cells": [
  {
   "source": [
    "# Setting multiple Dirichlet, Neumann, and Robin conditions\n",
    "Author: Hans Petter Langtangen and Anders Logg\n",
    "\n",
    "We consider the variable coefficient example from [the previous section](subdomains.ipynb). In this section we will cover how to apply a mixture of Dirichlet, Neumann and Robin type boundary conditions for this type of problem.\n",
    "\n",
    "We divide our boundary into three distinct sections:\n",
    "- $\\Gamma_D$ for Dirichlet conditions:\n",
    "```{math}\n",
    "    u=u_D^0 \\text{ on } \\Gamma_D^0, \\quad u=u_D^1 \\text{ on } \\Gamma_D^1, \\dots\n",
    "```\n",
    "where $\\Gamma_D=\\Gamma_D^0\\cup \\Gamma_D^1 \\cup \\dots$.\n",
    "- $\\Gamma_N$ for Neumann conditions:\n",
    "```{math}\n",
    "    -\\kappa \\frac{\\partial u}{\\partial n}&=g_0 \\text{ on } \\Gamma_N^0,\\\\ \n",
    "    -\\kappa \\frac{\\partial u}{\\partial n}&=g_1 \\text{ on } \\Gamma_N^1\n",
    "```\n",
    "where $\\Gamma_N=\\Gamma_N^0\\cup \\Gamma_N^1 \\cup \\dots$.\n",
    "- $\\Gamma_R$ for Robin conditions:\n",
    "```{math}\n",
    "-\\kappa \\frac{\\partial u}{\\partial n}=r(u-s)\n",
    "```\n",
    "where $r$ and $s$ are specified functions. The Robin condition is most often used to model heat transfer to the surroundings and arise naturally from Newton's cooling law.\n",
    "In that case, $r$ is a heat transfer coefficient, and $s$ is the temperature of the surroundings. \n",
    "Both can be space and time-dependent. The Robin conditions apply at some parts $\\Gamma_R^0,\\Gamma_R^1,\\dots, of the boundary:\n",
    "```{math}\n",
    "    -\\kappa \\frac{\\partial u}{\\partial n}&=r_0(u-s_0) \\text{ on } \\Gamma_R^0\\\\\n",
    "    -\\kappa \\frac{\\partial u}{\\partial n}&=r_1(u-s_1) \\text{ on } \\Gamma_R^1\n",
    "```\n",
    "## The PDE problem and variational formulation\n",
    "We can summarize the PDE problem as\n",
    "```{math}\n",
    "-\\nabla (\\kappa \\nabla u) &= f && \\text{in } \\Omega,\\\\\n",
    "u&=u_D^i && \\text{on } \\Gamma_D^i, \\qquad i=0,1,\\dots\\\\\n",
    "-\\kappa \\frac{\\partial u}{\\partial n}&=g_0 &&\\text{on } \\Gamma_N^0,\\qquad i=0,1,\\dots\\\\\n",
    "-\\kappa \\frac{\\partial u}{\\partial n}&=r_i(u-s_i)&& \\text{ on } \\Gamma_R^i, \\qquad i=0,1\n",
    "```\n",
    "As usual, we multiply by a test function and integrate by parts.\n",
    "```\n",
    "{math}\n",
    "-\\int_{\\Omega}\\nabla \\cdot (\\kappa \\nabla u)v ~\\mathrm{d} x = \n",
    "\\int_{\\Omega}\\kappa \\nabla u\\cdot \\nabla v~\\mathrm{d} x - \n",
    "\\int_{\\partial\\Omega}\\kappa \\frac{\\partial u}{\\partial n} v ~\\mathrm{d} s.\n",
    "```\n",
    "On the dirichlet part ($\\Gamma_D^i$), the boundary integral vanishes since $v=0$. On the remaining part of the boundary, we split the boundary into contributions from the Neumann parts ($\\Gamma_N^i$) and Robin parts ($\\Gamma_N^i$). Inserting the boundary conditions, we obtain\n",
    "```{math}\n",
    "-\\int_{\\Omega}\\kappa\\frac{\\partial u }{\\partial n }v~\\mathrm{d} s=-\\sum_i \\int_{\\Gamma_N^i} g_i~\\mathrm{d} s + \\sum_i\\int_{\\Gamma_R^i}r_i(u-s_i)~\\mathrm{d}s.\n",
    "```\n",
    "Thus we have the following variational problem\n",
    "```{math}\n",
    "F(u, v)=\\int_\\Omega \\kappa \\nabla u \\cdot \\nabla v~\\mathrm{d} x\n",
    "+ \\sum_i\\int_{\\Gamma_N^i}g_i v~\\mathrm{d}s\n",
    "\\sum_i\\int_{\\Gamma_R^i}r_i(u-s_i)~\\mathrm{d}s - \\int_\\Omega fv~\\mathrm{d} x = 0.\n",
    "```\n",
    "We have been used to writing the variational formulation as $a(u,v)=L(v)$, which requires that we identify the integrals dependent on the trial function $u$ and collect these in $a(u,v)$, while the remaining terms form $L(v)$. We not that the Robin condition has a contribution to both $a(u,v)$ and $L(v)$. \n",
    "We then have\n",
    "```{math}\n",
    "a(u,v)&= \\int_{\\Omega} \\kappa \\nabla u \\cdot \\nabla v ~\\mathrm{d} x + \\sum_i \\int_{\\Gamma_R^i}r_i u v~\\mathrm{d} s,\\\\\n",
    "L(v) &= \\int_{\\Omega} fv~\\mathrm{d} x - \\sum_i \\int_{\\Gamma_N^i}g_i v~\\mathrm{d} s + \\sum_i \\int_{\\Gamma_R^i}r_i s_i v ~\\mathrm{d}s.\n",
    "```"
   ],
   "cell_type": "markdown",
   "metadata": {}
  },
  {
   "source": [
    "## Implementation\n",
    "Author: Jørgen S. Dokken\n",
    "We start by defining the domain $\\Omega$ as the unit square $[0,1]\\times[0,1]$."
   ],
   "cell_type": "markdown",
   "metadata": {}
  },
  {
   "cell_type": "code",
   "execution_count": 3,
   "metadata": {},
   "outputs": [],
   "source": [
    "import dolfinx\n",
    "import numpy as np\n",
    "import ufl\n",
    "from mpi4py import MPI\n",
    "from petsc4py import PETSc\n",
    "\n",
    "mesh = dolfinx.UnitSquareMesh(MPI.COMM_WORLD, 15, 15)"
   ]
  },
  {
   "source": [
    "In this section, we will solve the Poisson problem for the manufactured solution $u_{ex} = 1+x^2+2y^2$, which yields $\\kappa=1$, $f=-6$. The next step is to define the parameters of the boundary condition, and where we should apply them. In this example, we will apply the following\n",
    "```{math}\n",
    "u &= u_D && \\text{for } x=0\\\\\n",
    "-\\kappa \\frac{\\partial u}{\\partial n} &= r(u-s) && \\text{for } x=1\\\\\n",
    "-\\kappa \\frac{\\partial u}{\\partial n} &=g_0 \\text{for } y = 0\\\\\n",
    "-\\kappa \\frac{\\partial u}{\\partial n} &=g_1\\text{for } y = 1\\\\\n",
    "```\n",
    "To reproduce the analytical solution, we have that \n",
    "```{math}\n",
    "    u_D&=u_{ex}=1+x^2+2y^2\\\\\n",
    "    g_0&=\\left.\\frac{\\partial u_{ex}}{y}\\right\\vert_{y=0}=4y\\vert_{y=0}=0\\\\\n",
    "    g_1&=\\left.\\frac{\\partial u_{ex}}{y}\\right\\vert_{y=1}=-4y\\vert_{y=1}=-4\n",
    "```\n",
    "The Robin condition can be specified in many ways. As $-\\left\\frac{\\partial u_{ex}}{n}\\right\\vert_{x=0}=\\left\\frac{\\partial u_{ex}}{\\partial x}\\right\\vert_{x=0}=2x=0$, we can specify $r\\neq 0$ arbitrarly and $s=u_{ex}$. We choose $r=1000$.\n",
    "We can now create all the necessary variable definitions and the traditional part of the variational form."
   ],
   "cell_type": "markdown",
   "metadata": {}
  },
  {
   "cell_type": "code",
   "execution_count": 6,
   "metadata": {},
   "outputs": [],
   "source": [
    "kappa = dolfinx.Constant(mesh, 1)\n",
    "f = dolfinx.Constant(mesh, -6)\n",
    "g_0 = 0\n",
    "g_1 = -4\n",
    "r = dolfinx.Constant(mesh, 1000)\n",
    "u_ex = lambda x: 1 + x[0]**2 + 2*x[1]**2\n",
    "V = dolfinx.FunctionSpace(mesh, (\"CG\", 1))\n",
    "u, v = ufl.TrialFunction(V), ufl.TestFunction(V)\n",
    "F = ufl.inner(ufl.grad(u), ufl.grad(v)) * ufl.dx - ufl.inner(f, v) * ufl.dx"
   ]
  },
  {
   "source": [
    "We start by identifying the facets contained in each boundary and create a custom integration measure `ds`."
   ],
   "cell_type": "markdown",
   "metadata": {}
  },
  {
   "cell_type": "code",
   "execution_count": 9,
   "metadata": {},
   "outputs": [],
   "source": [
    "boundaries = [(1, lambda x: np.isclose(x[0], 1)), (2, lambda x: np.isclose(x[1], 0)), (3, lambda x: np.isclose(x[1], 1)), (4, lambda x: np.isclose(x[0], 1))]"
   ]
  },
  {
   "source": [
    "We now loop through all the boundary conditions and create `MeshTags` identifying the facets for each boundary condition."
   ],
   "cell_type": "markdown",
   "metadata": {}
  },
  {
   "cell_type": "code",
   "execution_count": 12,
   "metadata": {},
   "outputs": [],
   "source": [
    "facet_indices, facet_markers = [], []\n",
    "fdim = mesh.topology.dim - 1\n",
    "for (marker, locator) in boundaries:\n",
    "    facets = dolfinx.mesh.locate_entities(mesh, fdim, locator)\n",
    "    facet_indices.append(facets)\n",
    "    facet_markers.append(np.full(len(facets), marker))\n",
    "facet_tag = dolfinx.MeshTags(mesh, fdim, np.array(np.hstack(facet_indices),dtype=np.int32), np.array(np.hstack(facet_markers),dtype=np.int32))"
   ]
  },
  {
   "source": [
    "Now we can create a custom integration measure `ds`, which can be used to restrict integration. If we integrate over `ds(1)`, we only integrate over facets marked with value 1 in the corresponding `facet_tag`."
   ],
   "cell_type": "markdown",
   "metadata": {}
  },
  {
   "cell_type": "code",
   "execution_count": 14,
   "metadata": {},
   "outputs": [],
   "source": [
    "ds = ufl.Measure(\"ds\", domain=mesh, subdomain_data=facet_tag)"
   ]
  },
  {
   "source": [
    "We can now create a general boundary condition class."
   ],
   "cell_type": "markdown",
   "metadata": {}
  },
  {
   "cell_type": "code",
   "execution_count": 16,
   "metadata": {},
   "outputs": [],
   "source": [
    "class BoundaryCondition():\n",
    "    def __init__(self, type, marker, values):\n",
    "        self._type = type\n",
    "        if type == \"Dirichlet\":\n",
    "            u_D = dolfinx.Function(V)\n",
    "            u_D.interpolate(values)\n",
    "            u_D.vector.ghostUpdate(addv=PETSc.InsertMode.INSERT, mode=PETSc.ScatterMode.FORWARD)\n",
    "            dofs = facet_tag.indices[facet_tag.values == marker]\n",
    "            self._bc = dolfinx.DirichletBC(u_D, dofs)\n",
    "        elif type == \"Neumann\":\n",
    "            if isinstance(values, ufl.form.Form) or isinstance(values, dolfinx.Constant) or isinstance(values, dolfinx.Function):\n",
    "                self._bc = ufl.inner(values, v) * ds(marker)\n",
    "            elif isinstance(float(values), float):\n",
    "                c = dolfinx.Constant(mesh, values)\n",
    "                self._bc = ufl.inner(c, v) * ds(marker)\n",
    "            else:\n",
    "                raise ValueError(\"Unknown input to Neumann condition\")\n",
    "        elif type == \"Robin\":\n",
    "            self._bc = values[0] * ufl.inner(u-values[1], v) * ds(marker)\n",
    "        else:\n",
    "            raise TypeError(\"Unknown boundary condition: {0:s}\".format(type))\n",
    "    @property\n",
    "    def bc(self):\n",
    "        return self._bc\n",
    "\n",
    "    @property\n",
    "    def type(self):\n",
    "        return self._type\n",
    "\n",
    "# Define the Dirichlet condition\n",
    "dirichlet = BoundaryCondition(\"Dirichlet\", 1, u_ex)\n",
    "# Define the Neumann condition\n",
    "neumann_0 = BoundaryCondition(\"Neumann\", 2, g_0)\n",
    "neumann_1 = BoundaryCondition(\"Neumann\", 3, g_1)\n",
    "# Define Robin condition\n",
    "u_s = dolfinx.Function(V)\n",
    "u_s.interpolate(u_ex)\n",
    "u_s.vector.ghostUpdate(addv=PETSc.InsertMode.INSERT, mode=PETSc.ScatterMode.FORWARD)\n",
    "robin = BoundaryCondition(\"Robin\", 4, (r, u_s))\n",
    "boundary_conditions = [dirichlet, neumann_0, neumann_1, robin]"
   ]
  },
  {
   "source": [
    "We can now loop through the boundary condition and append them to `L(v)` or the list of Dirichlet boundary conditions"
   ],
   "cell_type": "markdown",
   "metadata": {}
  },
  {
   "cell_type": "code",
   "execution_count": 18,
   "metadata": {},
   "outputs": [],
   "source": [
    "bcs = []\n",
    "for condition in boundary_conditions:\n",
    "    if condition.type == \"Dirichlet\":\n",
    "        bcs.append(condition.bc)\n",
    "    else:\n",
    "        F += condition.bc"
   ]
  },
  {
   "source": [
    "We can now create the bilinear form $a$ and linear form $L$ by using the `ufl`-functions `lhs` and `rhs`"
   ],
   "cell_type": "markdown",
   "metadata": {}
  },
  {
   "cell_type": "code",
   "execution_count": null,
   "metadata": {},
   "outputs": [],
   "source": [
    "a = ufl.lhs(F)\n",
    "L = ufl.rhs(F)\n",
    "problem = dolfinx.fem.LinearProblem(a, L, bcs=bcs,\n",
    "petsc_options={\"ksp_type\": \"preonly\", \"pc_type\": \"lu\"})\n",
    "uh = problem.solve()\n",
    "import dolfinx.plotting\n",
    "dolfinx.plotting.plot(uh)\n",
    "plt.show()"
   ]
  },
  {
   "cell_type": "code",
   "execution_count": null,
   "metadata": {},
   "outputs": [],
   "source": []
  }
 ]
}